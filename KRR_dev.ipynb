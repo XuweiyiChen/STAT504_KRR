{
 "cells": [
  {
   "cell_type": "code",
   "execution_count": 12,
   "metadata": {
    "collapsed": true
   },
   "outputs": [],
   "source": [
    "import numpy as np\n",
    "from numpy.linalg import inv\n",
    "from numpy import linalg as LA"
   ]
  },
  {
   "cell_type": "markdown",
   "source": [
    "## Assume we have $10$ samples and $3$ features"
   ],
   "metadata": {
    "collapsed": false
   }
  },
  {
   "cell_type": "code",
   "execution_count": 5,
   "outputs": [],
   "source": [
    "T = 10\n",
    "K = 3"
   ],
   "metadata": {
    "collapsed": false,
    "pycharm": {
     "name": "#%%\n"
    }
   }
  },
  {
   "cell_type": "code",
   "execution_count": 6,
   "outputs": [],
   "source": [
    "Y_train = np.random.random((T, 1)) ## label"
   ],
   "metadata": {
    "collapsed": false,
    "pycharm": {
     "name": "#%%\n"
    }
   }
  },
  {
   "cell_type": "code",
   "execution_count": 7,
   "outputs": [],
   "source": [
    "X_train = np.random.random((T, 3)) ## input size"
   ],
   "metadata": {
    "collapsed": false,
    "pycharm": {
     "name": "#%%\n"
    }
   }
  },
  {
   "cell_type": "markdown",
   "source": [
    "## Ridge Regression V1：\n",
    "\n",
    "Assuming $Y_{label}$ is training label in a form of column: $T \\times 1$,\n",
    "$X_{train}$ is training data in the form of matrix: $T \\times K$, where\n",
    "$K$ is the number of features."
   ],
   "metadata": {
    "collapsed": false
   }
  },
  {
   "cell_type": "markdown",
   "source": [
    "### Step 1: transpose $Y_{train}$\n",
    "\n",
    "Transpose $Y_{train}$: now $Y_train$ is in the form of $1 \\times T$."
   ],
   "metadata": {
    "collapsed": false
   }
  },
  {
   "cell_type": "code",
   "execution_count": 8,
   "outputs": [],
   "source": [
    "Y_train = Y_train.T"
   ],
   "metadata": {
    "collapsed": false,
    "pycharm": {
     "name": "#%%\n"
    }
   }
  },
  {
   "cell_type": "code",
   "execution_count": 11,
   "outputs": [
    {
     "data": {
      "text/plain": "array([[0.56695233, 0.31128824, 0.65813732, 0.83962923, 0.15307415,\n        0.98223933, 0.03117382, 0.17310121, 0.1839843 , 0.76064966]])"
     },
     "execution_count": 11,
     "metadata": {},
     "output_type": "execute_result"
    }
   ],
   "source": [
    "Y_train"
   ],
   "metadata": {
    "collapsed": false,
    "pycharm": {
     "name": "#%%\n"
    }
   }
  },
  {
   "cell_type": "code",
   "execution_count": 10,
   "outputs": [
    {
     "data": {
      "text/plain": "array([[0.50171174, 0.30910614, 0.87895083],\n       [0.6375385 , 0.47648357, 0.99828598],\n       [0.48084943, 0.79951097, 0.89499244],\n       [0.15048445, 0.59450423, 0.51427583],\n       [0.38921102, 0.11179432, 0.83694569],\n       [0.57801698, 0.71158913, 0.54137334],\n       [0.52824316, 0.21939067, 0.39053698],\n       [0.93541971, 0.39352621, 0.51080596],\n       [0.63849549, 0.44045141, 0.48047649],\n       [0.44853575, 0.91723251, 0.71851558]])"
     },
     "execution_count": 10,
     "metadata": {},
     "output_type": "execute_result"
    }
   ],
   "source": [
    "X_train"
   ],
   "metadata": {
    "collapsed": false,
    "pycharm": {
     "name": "#%%\n"
    }
   }
  },
  {
   "cell_type": "markdown",
   "source": [
    "### Step 2: Create $K$ matrix in the form of $T \\times T$\n",
    "\n",
    "Assuming we declare a penalty $\\alpha$"
   ],
   "metadata": {
    "collapsed": false
   }
  },
  {
   "cell_type": "code",
   "execution_count": null,
   "outputs": [],
   "source": [
    "def guassian_kernel(x, y, gamma):\n",
    "    ## TODO: NORM\n",
    "    return np.exp(-gamma * LA.norm(x - y)**2)"
   ],
   "metadata": {
    "collapsed": false,
    "pycharm": {
     "name": "#%%\n"
    }
   }
  },
  {
   "cell_type": "code",
   "execution_count": 13,
   "outputs": [],
   "source": [
    "K_matrix = np.zeros((T, T))\n",
    "alpha = 0.1\n",
    "\n",
    "for s in range(T):\n",
    "    for t in range(T):\n",
    "        K_matrix[s, t] = np.dot(X_train[s,:], X_train[t,:])"
   ],
   "metadata": {
    "collapsed": false,
    "pycharm": {
     "name": "#%%\n"
    }
   }
  },
  {
   "cell_type": "code",
   "execution_count": 15,
   "outputs": [
    {
     "data": {
      "text/plain": "(10, 10)"
     },
     "execution_count": 15,
     "metadata": {},
     "output_type": "execute_result"
    }
   ],
   "source": [
    "K_matrix.shape"
   ],
   "metadata": {
    "collapsed": false,
    "pycharm": {
     "name": "#%%\n"
    }
   }
  },
  {
   "cell_type": "code",
   "execution_count": 21,
   "outputs": [],
   "source": [
    "additive_term = np.eye(T) * alpha\n",
    "\n",
    "K_matrix = K_matrix + additive_term"
   ],
   "metadata": {
    "collapsed": false,
    "pycharm": {
     "name": "#%%\n"
    }
   }
  },
  {
   "cell_type": "raw",
   "source": [
    "Then we want to take the inverse."
   ],
   "metadata": {
    "collapsed": false,
    "pycharm": {
     "name": "#%% raw\n"
    }
   }
  },
  {
   "cell_type": "code",
   "execution_count": 23,
   "outputs": [],
   "source": [
    "K_matrix = inv(K_matrix)"
   ],
   "metadata": {
    "collapsed": false,
    "pycharm": {
     "name": "#%%\n"
    }
   }
  },
  {
   "cell_type": "markdown",
   "source": [
    "### Step 3: Construct k in the form $T \\times 1$\n",
    "\n",
    "$x_{input}$ is the new batch, we want to make prediction."
   ],
   "metadata": {
    "collapsed": false
   }
  },
  {
   "cell_type": "code",
   "execution_count": 26,
   "outputs": [],
   "source": [
    "x_input = np.random.random((K))"
   ],
   "metadata": {
    "collapsed": false,
    "pycharm": {
     "name": "#%%\n"
    }
   }
  },
  {
   "cell_type": "code",
   "execution_count": 27,
   "outputs": [],
   "source": [
    "k = np.zeros((T, 1))"
   ],
   "metadata": {
    "collapsed": false,
    "pycharm": {
     "name": "#%%\n"
    }
   }
  },
  {
   "cell_type": "code",
   "execution_count": 28,
   "outputs": [],
   "source": [
    "for t in range(T):\n",
    "    k[t] = np.dot(X_train[t, :], x_input)"
   ],
   "metadata": {
    "collapsed": false,
    "pycharm": {
     "name": "#%%\n"
    }
   }
  },
  {
   "cell_type": "markdown",
   "source": [
    "### Final Step: find $w \\cdot x$："
   ],
   "metadata": {
    "collapsed": false
   }
  },
  {
   "cell_type": "code",
   "execution_count": 29,
   "outputs": [],
   "source": [
    "result = np.matmul(np.matmul(Y_train, K_matrix), k)"
   ],
   "metadata": {
    "collapsed": false,
    "pycharm": {
     "name": "#%%\n"
    }
   }
  },
  {
   "cell_type": "code",
   "execution_count": 30,
   "outputs": [
    {
     "data": {
      "text/plain": "array([[0.03462727]])"
     },
     "execution_count": 30,
     "metadata": {},
     "output_type": "execute_result"
    }
   ],
   "source": [
    "result"
   ],
   "metadata": {
    "collapsed": false,
    "pycharm": {
     "name": "#%%\n"
    }
   }
  },
  {
   "cell_type": "markdown",
   "source": [
    "As you could the see the result is a number, which means we successfully predict a new\n",
    "value with training data.\n",
    "\n",
    "However, this approach is very naive and incomplete. We will have to go back and\n",
    "calculate the corresponding Lagrange Multiplier and then find the weights explicitly because we\n",
    "have infinity possibility to compute weights otherwise.\n",
    "\n",
    "Also, we haven't really implement kernel method. I believe we could replace the dot product\n",
    "with kernel method. This will extend ridge regression to KRR.\n",
    "\n",
    "I view the single output as failure because we will need to take advantage of parallelism, which I will\n",
    "read the spec for np.dot() carefully and make sure our project have the feature.\n",
    "\n",
    "Lastly, as you see, the inverse is very expensive. We will optimize it."
   ],
   "metadata": {
    "collapsed": false,
    "pycharm": {
     "name": "#%% md\n"
    }
   }
  },
  {
   "cell_type": "markdown",
   "source": [
    "Otherwise, this V1 is a good place to demonstrate the algorithm which I will keep it."
   ],
   "metadata": {
    "collapsed": false,
    "pycharm": {
     "name": "#%% md\n"
    }
   }
  }
 ],
 "metadata": {
  "kernelspec": {
   "display_name": "Python 3",
   "language": "python",
   "name": "python3"
  },
  "language_info": {
   "codemirror_mode": {
    "name": "ipython",
    "version": 2
   },
   "file_extension": ".py",
   "mimetype": "text/x-python",
   "name": "python",
   "nbconvert_exporter": "python",
   "pygments_lexer": "ipython2",
   "version": "2.7.6"
  }
 },
 "nbformat": 4,
 "nbformat_minor": 0
}