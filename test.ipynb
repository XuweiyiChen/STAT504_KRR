{
 "cells": [
  {
   "cell_type": "code",
   "execution_count": 1,
   "outputs": [],
   "source": [
    "import sklearn as sk\n",
    "import numpy as np\n",
    "from sklearn.kernel_ridge import KernelRidge\n",
    "from kRR_modified import KernelRidge as KernelRidge_2"
   ],
   "metadata": {
    "collapsed": false,
    "pycharm": {
     "name": "#%%\n"
    }
   }
  },
  {
   "cell_type": "code",
   "execution_count": 4,
   "outputs": [
    {
     "data": {
      "text/plain": "KernelRidge(alpha=1.0, gamma=1, kernel='rbf')"
     },
     "execution_count": 4,
     "metadata": {},
     "output_type": "execute_result"
    }
   ],
   "source": [
    "n_samples, n_features = 10, 5\n",
    "rng = np.random.RandomState(0)\n",
    "y = rng.randn(n_samples)\n",
    "X = rng.randn(n_samples, n_features)\n",
    "krr = KernelRidge(alpha=1.0, kernel='rbf', gamma=1)\n",
    "krr.fit(X, y)"
   ],
   "metadata": {
    "collapsed": false,
    "pycharm": {
     "name": "#%%\n"
    }
   }
  },
  {
   "cell_type": "code",
   "execution_count": 14,
   "outputs": [
    {
     "data": {
      "text/plain": "array([ 0.98940723,  0.18211334,  0.48925428,  1.12025721,  0.93876496,\n       -0.67539388,  0.47495199, -0.07890668, -0.12160671,  0.20886679])"
     },
     "execution_count": 14,
     "metadata": {},
     "output_type": "execute_result"
    }
   ],
   "source": [
    "krr.dual_coef_"
   ],
   "metadata": {
    "collapsed": false,
    "pycharm": {
     "name": "#%%\n"
    }
   }
  },
  {
   "cell_type": "code",
   "execution_count": 5,
   "outputs": [],
   "source": [
    "krr2 = KernelRidge_2('laplacian')"
   ],
   "metadata": {
    "collapsed": false,
    "pycharm": {
     "name": "#%%\n"
    }
   }
  },
  {
   "cell_type": "code",
   "execution_count": 7,
   "outputs": [
    {
     "data": {
      "text/plain": "array([[1.00000000e+00, 3.75639098e-02, 9.78113041e-04, 2.95467979e-03,\n        2.54244578e-03, 1.27447889e-01, 1.29719158e-04, 1.27279264e-03,\n        8.24252399e-03, 2.45027794e-02],\n       [3.75639098e-02, 1.00000000e+00, 1.03370842e-04, 9.30015476e-04,\n        4.56501642e-03, 3.36253815e-02, 3.84729111e-04, 6.92708634e-04,\n        8.28718553e-03, 2.44441281e-02],\n       [9.78113041e-04, 1.03370842e-04, 1.00000000e+00, 2.93691472e-03,\n        1.68785892e-04, 4.88927402e-04, 2.46409735e-05, 4.28314192e-04,\n        1.69168532e-03, 2.97028239e-04],\n       [2.95467979e-03, 9.30015476e-04, 2.93691472e-03, 1.00000000e+00,\n        1.69821437e-04, 7.90734931e-04, 2.73062741e-03, 3.05176416e-04,\n        1.71512763e-03, 1.02693083e-03],\n       [2.54244578e-03, 4.56501642e-03, 1.68785892e-04, 1.69821437e-04,\n        1.00000000e+00, 3.97904215e-03, 1.08461177e-04, 7.64662341e-03,\n        5.96080389e-02, 2.50022997e-02],\n       [1.27447889e-01, 3.36253815e-02, 4.88927402e-04, 7.90734931e-04,\n        3.97904215e-03, 1.00000000e+00, 7.67146611e-05, 3.24270669e-03,\n        9.35273574e-03, 4.80736840e-02],\n       [1.29719158e-04, 3.84729111e-04, 2.46409735e-05, 2.73062741e-03,\n        1.08461177e-04, 7.67146611e-05, 1.00000000e+00, 1.50569901e-04,\n        4.60838346e-04, 4.18202183e-04],\n       [1.27279264e-03, 6.92708634e-04, 4.28314192e-04, 3.05176416e-04,\n        7.64662341e-03, 3.24270669e-03, 1.50569901e-04, 1.00000000e+00,\n        1.26218816e-02, 2.13536105e-02],\n       [8.24252399e-03, 8.28718553e-03, 1.69168532e-03, 1.71512763e-03,\n        5.96080389e-02, 9.35273574e-03, 4.60838346e-04, 1.26218816e-02,\n        1.00000000e+00, 3.26590620e-02],\n       [2.45027794e-02, 2.44441281e-02, 2.97028239e-04, 1.02693083e-03,\n        2.50022997e-02, 4.80736840e-02, 4.18202183e-04, 2.13536105e-02,\n        3.26590620e-02, 1.00000000e+00]])"
     },
     "execution_count": 7,
     "metadata": {},
     "output_type": "execute_result"
    }
   ],
   "source": [
    "krr2.compute_kernel_matrix(X, X)"
   ],
   "metadata": {
    "collapsed": false,
    "pycharm": {
     "name": "#%%\n"
    }
   }
  },
  {
   "cell_type": "code",
   "execution_count": null,
   "outputs": [],
   "source": [],
   "metadata": {
    "collapsed": false,
    "pycharm": {
     "name": "#%%\n"
    }
   }
  }
 ],
 "metadata": {
  "kernelspec": {
   "name": "pycharm-26b43991",
   "language": "python",
   "display_name": "PyCharm (CSE)"
  },
  "language_info": {
   "codemirror_mode": {
    "name": "ipython",
    "version": 2
   },
   "file_extension": ".py",
   "mimetype": "text/x-python",
   "name": "python",
   "nbconvert_exporter": "python",
   "pygments_lexer": "ipython2",
   "version": "2.7.6"
  }
 },
 "nbformat": 4,
 "nbformat_minor": 0
}